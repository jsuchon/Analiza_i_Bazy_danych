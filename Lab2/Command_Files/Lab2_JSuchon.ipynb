{
 "cells": [
  {
   "cell_type": "code",
   "execution_count": 14,
   "id": "2ead30ce",
   "metadata": {},
   "outputs": [
    {
     "name": "stdout",
     "output_type": "stream",
     "text": [
      "Struktura oryginalnych danych:\n",
      "     iso2  year   new_sp  new_sp_m04  new_sp_m514  new_sp_m014  new_sp_m1524  \\\n",
      "0      AD  1989      NaN         NaN          NaN          NaN           NaN   \n",
      "1      AD  1990      NaN         NaN          NaN          NaN           NaN   \n",
      "2      AD  1991      NaN         NaN          NaN          NaN           NaN   \n",
      "3      AD  1992      NaN         NaN          NaN          NaN           NaN   \n",
      "4      AD  1993     15.0         NaN          NaN          NaN           NaN   \n",
      "...   ...   ...      ...         ...          ...          ...           ...   \n",
      "5764   ZW  2004  14581.0         NaN          NaN        187.0         833.0   \n",
      "5765   ZW  2005  13155.0         NaN          NaN        210.0         837.0   \n",
      "5766   ZW  2006  12718.0         NaN          NaN        215.0         736.0   \n",
      "5767   ZW  2007  10583.0         6.0        132.0        138.0         500.0   \n",
      "5768   ZW  2008   9830.0         NaN          NaN        127.0         614.0   \n",
      "\n",
      "      new_sp_m2534  new_sp_m3544  new_sp_m4554  ...  new_sp_f04  new_sp_f514  \\\n",
      "0              NaN           NaN           NaN  ...         NaN          NaN   \n",
      "1              NaN           NaN           NaN  ...         NaN          NaN   \n",
      "2              NaN           NaN           NaN  ...         NaN          NaN   \n",
      "3              NaN           NaN           NaN  ...         NaN          NaN   \n",
      "4              NaN           NaN           NaN  ...         NaN          NaN   \n",
      "...            ...           ...           ...  ...         ...          ...   \n",
      "5764        2908.0        2298.0        1056.0  ...         NaN          NaN   \n",
      "5765        2264.0        1855.0         762.0  ...         NaN          NaN   \n",
      "5766        2391.0        1939.0         896.0  ...         NaN          NaN   \n",
      "5767        3693.0           0.0         716.0  ...         7.0        178.0   \n",
      "5768           0.0        3316.0         704.0  ...         NaN          NaN   \n",
      "\n",
      "      new_sp_f014  new_sp_f1524  new_sp_f2534  new_sp_f3544  new_sp_f4554  \\\n",
      "0             NaN           NaN           NaN           NaN           NaN   \n",
      "1             NaN           NaN           NaN           NaN           NaN   \n",
      "2             NaN           NaN           NaN           NaN           NaN   \n",
      "3             NaN           NaN           NaN           NaN           NaN   \n",
      "4             NaN           NaN           NaN           NaN           NaN   \n",
      "...           ...           ...           ...           ...           ...   \n",
      "5764        225.0        1140.0        2858.0        1565.0         622.0   \n",
      "5765        269.0        1136.0        2242.0        1255.0         578.0   \n",
      "5766        237.0        1020.0        2424.0        1355.0         632.0   \n",
      "5767        185.0         739.0        3311.0           0.0         553.0   \n",
      "5768        145.0         840.0           0.0        2890.0         467.0   \n",
      "\n",
      "      new_sp_f5564  new_sp_f65  new_sp_fu  \n",
      "0              NaN         NaN        NaN  \n",
      "1              NaN         NaN        NaN  \n",
      "2              NaN         NaN        NaN  \n",
      "3              NaN         NaN        NaN  \n",
      "4              NaN         NaN        NaN  \n",
      "...            ...         ...        ...  \n",
      "5764         214.0       111.0        NaN  \n",
      "5765         193.0       603.0        NaN  \n",
      "5766         230.0        96.0        NaN  \n",
      "5767         213.0        90.0        NaN  \n",
      "5768         174.0       105.0        0.0  \n",
      "\n",
      "[5769 rows x 23 columns]\n"
     ]
    }
   ],
   "source": [
    "import os\n",
    "import pandas as pd\n",
    "\n",
    "#path_to_original_data = f'{dirname(dirname(abspath(__file__)))}/Original_Data/tb.csv'\n",
    "#path_to_result_data = f'{dirname(dirname(abspath(__file__)))}/Analysis_Data/result_tb.csv'\n",
    "\n",
    "path_to_original_data = f'{os.getcwd()}/../Original_Data/tb.csv'\n",
    "path_to_result_data = f'{os.getcwd()}/../Analysis_Data/result_tb.csv'\n",
    "\n",
    "df = pd.read_csv(path_to_original_data)\n",
    "print(\"Struktura oryginalnych danych:\")\n",
    "print(df)"
   ]
  },
  {
   "cell_type": "code",
   "execution_count": 17,
   "id": "ef286377",
   "metadata": {},
   "outputs": [
    {
     "name": "stdout",
     "output_type": "stream",
     "text": [
      "Struktura przetworzonych danych:\n",
      "      country  year sex      age  cases\n",
      "0          AD  1996   f     0-14      0\n",
      "1          AD  1996   f    15-24      1\n",
      "2          AD  1996   f    25-34      1\n",
      "3          AD  1996   f    35-44      0\n",
      "4          AD  1996   f    45-54      0\n",
      "...       ...   ...  ..      ...    ...\n",
      "33957      ZW  2008   m    35-44   3316\n",
      "33958      ZW  2008   m    45-54    704\n",
      "33959      ZW  2008   m    55-64    263\n",
      "33960      ZW  2008   m      65+    185\n",
      "33961      ZW  2008   m  unknown      0\n",
      "\n",
      "[33962 rows x 5 columns]\n"
     ]
    }
   ],
   "source": [
    "df = pd.read_csv(path_to_original_data)\n",
    "df = pd.melt(df, id_vars=['iso2', 'year'], value_vars=list(df.columns)[2:],\n",
    "             var_name='column', value_name='cases')\n",
    "\n",
    "df['sex'] = df['column'].str[7]\n",
    "df['age'] = df['column'].str[8:].map({\n",
    "    '014': '0-14',\n",
    "    '1524': '15-24',\n",
    "    '2534': '25-34',\n",
    "    '3544': '35-44',\n",
    "    '4554': '45-54',\n",
    "    '5564': '55-64',\n",
    "    '65': '65+',\n",
    "    'u': 'unknown'\n",
    "})\n",
    "df = df[~df['cases'].isnull()]\n",
    "df = df[~df['age'].isnull()]\n",
    "df = df[~df['iso2'].isnull()]\n",
    "df['cases'] = df['cases'].astype(int)\n",
    "\n",
    "df.rename(columns={'iso2': 'country'}, inplace=True)\n",
    "df = df[['country', 'year', 'sex', 'age', 'cases']]\n",
    "df = df.sort_values([\"country\", \"year\", \"sex\", \"age\"], ascending=True)\n",
    "df = df.reset_index(drop=True)\n",
    "df.to_csv(path_to_result_data, index=False)\n",
    "print(\"Struktura przetworzonych danych:\")\n",
    "print(df)"
   ]
  }
 ],
 "metadata": {
  "kernelspec": {
   "display_name": "Python 3",
   "language": "python",
   "name": "python3"
  },
  "language_info": {
   "codemirror_mode": {
    "name": "ipython",
    "version": 3
   },
   "file_extension": ".py",
   "mimetype": "text/x-python",
   "name": "python",
   "nbconvert_exporter": "python",
   "pygments_lexer": "ipython3",
   "version": "3.8.8"
  }
 },
 "nbformat": 4,
 "nbformat_minor": 5
}
